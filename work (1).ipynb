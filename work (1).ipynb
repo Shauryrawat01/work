{
 "cells": [
  {
   "cell_type": "code",
   "execution_count": 1,
   "id": "2c63b199-ff99-4a06-8ec3-1722f432cb5b",
   "metadata": {},
   "outputs": [],
   "source": [
    "import pandas as pd"
   ]
  },
  {
   "cell_type": "code",
   "execution_count": 2,
   "id": "1bc16561-30d4-4b8a-86ea-7e4d29baf34c",
   "metadata": {},
   "outputs": [],
   "source": [
    "course_name = ['Data Science', 'Machine Learning', 'Big Data', 'Data Engineer']"
   ]
  },
  {
   "cell_type": "code",
   "execution_count": 3,
   "id": "3ec30d1b-a7c9-481d-b445-b112470a128d",
   "metadata": {},
   "outputs": [],
   "source": [
    "duration =  [2,3,6,4]"
   ]
  },
  {
   "cell_type": "code",
   "execution_count": 4,
   "id": "aee5dc75-3995-4ad4-8b0f-030bcc260a19",
   "metadata": {},
   "outputs": [],
   "source": [
    "df = pd.DataFrame(data = {'course_name' : course_name, 'duration' : duration})"
   ]
  },
  {
   "cell_type": "code",
   "execution_count": 5,
   "id": "6f221433-d561-44bd-b93f-705b916c87cd",
   "metadata": {},
   "outputs": [
    {
     "data": {
      "text/html": [
       "<div>\n",
       "<style scoped>\n",
       "    .dataframe tbody tr th:only-of-type {\n",
       "        vertical-align: middle;\n",
       "    }\n",
       "\n",
       "    .dataframe tbody tr th {\n",
       "        vertical-align: top;\n",
       "    }\n",
       "\n",
       "    .dataframe thead th {\n",
       "        text-align: right;\n",
       "    }\n",
       "</style>\n",
       "<table border=\"1\" class=\"dataframe\">\n",
       "  <thead>\n",
       "    <tr style=\"text-align: right;\">\n",
       "      <th></th>\n",
       "      <th>course_name</th>\n",
       "      <th>duration</th>\n",
       "    </tr>\n",
       "  </thead>\n",
       "  <tbody>\n",
       "    <tr>\n",
       "      <th>0</th>\n",
       "      <td>Data Science</td>\n",
       "      <td>2</td>\n",
       "    </tr>\n",
       "    <tr>\n",
       "      <th>1</th>\n",
       "      <td>Machine Learning</td>\n",
       "      <td>3</td>\n",
       "    </tr>\n",
       "    <tr>\n",
       "      <th>2</th>\n",
       "      <td>Big Data</td>\n",
       "      <td>6</td>\n",
       "    </tr>\n",
       "    <tr>\n",
       "      <th>3</th>\n",
       "      <td>Data Engineer</td>\n",
       "      <td>4</td>\n",
       "    </tr>\n",
       "  </tbody>\n",
       "</table>\n",
       "</div>"
      ],
      "text/plain": [
       "        course_name  duration\n",
       "0      Data Science         2\n",
       "1  Machine Learning         3\n",
       "2          Big Data         6\n",
       "3     Data Engineer         4"
      ]
     },
     "execution_count": 5,
     "metadata": {},
     "output_type": "execute_result"
    }
   ],
   "source": [
    "df"
   ]
  },
  {
   "cell_type": "code",
   "execution_count": 18,
   "id": "5a179cce-d58f-4a9c-a485-8e10ff254bee",
   "metadata": {},
   "outputs": [
    {
     "data": {
      "text/plain": [
       "course_name    Machine Learning\n",
       "duration                      3\n",
       "Name: 1, dtype: object"
      ]
     },
     "execution_count": 18,
     "metadata": {},
     "output_type": "execute_result"
    }
   ],
   "source": [
    "#Question 1\n",
    "df.iloc[1]"
   ]
  },
  {
   "cell_type": "code",
   "execution_count": 20,
   "id": "115d5953-216d-4596-9e66-69949d9b8362",
   "metadata": {},
   "outputs": [],
   "source": [
    "#Question 2\n",
    "#loc is used when you want to access data by specifying the labels like the names of rows and columns\n",
    "#iloc is used when you want to access data by specifying the integer positions like the order of rows and columns"
   ]
  },
  {
   "cell_type": "code",
   "execution_count": 28,
   "id": "49759fb1-caf0-411f-bdf1-0d068c750c9a",
   "metadata": {},
   "outputs": [
    {
     "data": {
      "text/plain": [
       "course_name    Machine Learning\n",
       "duration                      3\n",
       "Name: 1, dtype: object"
      ]
     },
     "execution_count": 28,
     "metadata": {},
     "output_type": "execute_result"
    }
   ],
   "source": [
    "#Question 3\n",
    "reindex = [3, 0, 1, 2]\n",
    "new_df = df.reindex(reindex)\n",
    "new_df.loc[2]\n",
    "new_df.iloc[2]\n",
    "\n",
    "#new_df.loc it will return the row where the label is 2, not the third row of the DataFrame.\n",
    "#new_df.iloc[2] it is purely positional based indexing, so it returns the row at the third position index 2 in the DataFrame"
   ]
  },
  {
   "cell_type": "code",
   "execution_count": 29,
   "id": "5c52fb96-8e05-42b6-8dd7-435e484b8a9e",
   "metadata": {},
   "outputs": [],
   "source": [
    "columns = ['column_1', 'column_2', 'column_3', 'column_4', 'column_5', 'column_6']\n",
    "indices = [1,2,3,4,5,6]"
   ]
  },
  {
   "cell_type": "code",
   "execution_count": 30,
   "id": "374b4bca-6104-46ed-84e6-3a61ddbe2884",
   "metadata": {},
   "outputs": [],
   "source": [
    "import numpy as np\n",
    "df1 = pd.DataFrame(np.random.rand(6,6), columns = columns, index = indices)"
   ]
  },
  {
   "cell_type": "code",
   "execution_count": 37,
   "id": "e85a9141-3ad0-4673-a6e6-90532a7e59bf",
   "metadata": {},
   "outputs": [
    {
     "data": {
      "text/plain": [
       "0.2520296427699641"
      ]
     },
     "execution_count": 37,
     "metadata": {},
     "output_type": "execute_result"
    }
   ],
   "source": [
    "#Question 4\n",
    "#(i)\n",
    "column_means = df1.mean()\n",
    "column_means\n",
    "#(ii)\n",
    "column_2_std = df1['column_2'].std()\n",
    "column_2_std"
   ]
  },
  {
   "cell_type": "code",
   "execution_count": 52,
   "id": "b772814c-50ad-4471-a650-dbbd07e25a93",
   "metadata": {},
   "outputs": [
    {
     "name": "stdout",
     "output_type": "stream",
     "text": [
      "unsupported operand type(s) for +: 'float' and 'str'\n"
     ]
    }
   ],
   "source": [
    "#Question 5\n",
    "\n",
    "df1.loc[2, 'column_2'] = 'string data'\n",
    "\n",
    "try:\n",
    "    column_2_mean = df1['column_2'].mean()\n",
    "    print(column_2_mean)\n",
    "except TypeError as e:\n",
    "    print(e)\n",
    "\n",
    "#this gives error because we can not  ass float and str"
   ]
  },
  {
   "cell_type": "code",
   "execution_count": 56,
   "id": "05c9f247-cdd8-4145-a633-00a00f760b38",
   "metadata": {},
   "outputs": [],
   "source": [
    "#Question 6\n",
    "#it is used to perform calculations over a specified window or range of data points.\n",
    "#Rolling Window Functions These functions apply a calculation over a specified window size and move that window one observation at a time until the entire dataset is covered. Examples include rolling sum, rolling mean, rolling standard deviation, etc.\n",
    "#Expanding Window Functions: These functions apply a calculation to all data points in the window from the start of the series up to the current point. The window size grows over time. Examples include expanding sum, expanding mean, etc."
   ]
  },
  {
   "cell_type": "code",
   "execution_count": 61,
   "id": "047beb9d-ceb4-4947-a095-62200fd7a917",
   "metadata": {},
   "outputs": [
    {
     "data": {
      "text/plain": [
       "2024"
      ]
     },
     "execution_count": 61,
     "metadata": {},
     "output_type": "execute_result"
    }
   ],
   "source": [
    "#Question 7\n",
    "dt=pd.to_datetime('2024-02-12')\n",
    "dt1 = dt.month\n",
    "dt2 = dt.year\n",
    "\n",
    "dt1\n",
    "dt2"
   ]
  },
  {
   "cell_type": "code",
   "execution_count": 77,
   "id": "4d6c1245-2174-49d6-9d08-699d46a7515c",
   "metadata": {},
   "outputs": [
    {
     "name": "stdin",
     "output_type": "stream",
     "text": [
      "Enter the first date (YYYY-MM-DD):  2024-02-12\n",
      "Enter the second date (YYYY-MM-DD):  2024-02-15\n"
     ]
    },
    {
     "name": "stdout",
     "output_type": "stream",
     "text": [
      "Time difference between 2024-02-12 and 2024-02-15 is:\n",
      "Days: 3\n",
      "Hours: 0\n",
      "Minutes: 0\n"
     ]
    }
   ],
   "source": [
    "#Question 8\n",
    "def calculate_time_difference(date1, date2):\n",
    "    date1 = pd.to_datetime(date1)\n",
    "    date2 = pd.to_datetime(date2)\n",
    "    time_diff = date2 - date1\n",
    "    \n",
    "    days = time_diff.days\n",
    "    hours = time_diff.seconds // 3600\n",
    "    minutes = (time_diff.seconds % 3600) // 60\n",
    "    \n",
    "    return days, hours, minutes\n",
    "\n",
    "date1 = input(\"Enter the first date (YYYY-MM-DD): \")\n",
    "date2 = input(\"Enter the second date (YYYY-MM-DD): \")\n",
    "\n",
    "days_diff, hours_diff, minutes_diff = calculate_time_difference(date1, date2)\n",
    "\n",
    "print(\"Time difference between\", date1, \"and\", date2, \"is:\")\n",
    "print(\"Days:\", days_diff)\n",
    "print(\"Hours:\", hours_diff)\n",
    "print(\"Minutes:\", minutes_diff)\n"
   ]
  },
  {
   "cell_type": "code",
   "execution_count": null,
   "id": "9ab8fd5d-a4ba-4cd2-8e7c-4ea524a4ee28",
   "metadata": {},
   "outputs": [],
   "source": [
    "# Qusetion 9\n",
    "\n",
    "def process_csv(file_path, column_name, category_order):\n",
    "    \n",
    "    df = pd.read_csv(file_path)\n",
    "    \n",
    "    df[column_name] = pd.Categorical(df[column_name], categories=category_order, ordered=True)\n",
    "    \n",
    "    sorted_data = df.sort_values(by=[column_name])\n",
    "    print(\"Sorted Data:\")\n",
    "    print(sorted_data)\n",
    "file_path = input(\"Enter the file path of the CSV file: \")\n",
    "column_name = input(\"Enter the column name to convert to categorical data type: \")\n",
    "category_order_str = input(\"Enter the category order (comma-separated): \")\n",
    "\n",
    "category_order = [category.strip() for category in category_order_str.split(\",\")]\n",
    "\n",
    "process_csv(file_path, column_name, category_order)\n"
   ]
  },
  {
   "cell_type": "code",
   "execution_count": null,
   "id": "36ed681e-9131-4436-bb84-674b1fbd0389",
   "metadata": {},
   "outputs": [],
   "source": [
    "#Qusetion 10\n",
    "import matplotlib.pyplot as plt\n",
    "\n",
    "def visualize_sales_data(file_path):\n",
    "    df = pd.read_csv(file_path)\n",
    "    df['Date'] = pd.to_datetime(df['Date'])\n",
    "    df['Year'] = df['Date'].dt.year\n",
    "    df['Month'] = df['Date'].dt.month\n",
    "    sales_data = df.groupby(['Year', 'Month', 'Product Category'])['Sales'].sum().unstack(fill_value=0)\n",
    "    sales_data.plot(kind='bar', stacked=True, figsize=(10, 6))\n",
    "    plt.title('Sales of Each Product Category Over Time')\n",
    "    plt.xlabel('Year-Month')\n",
    "    plt.ylabel('Sales')\n",
    "    plt.xticks(rotation=45)\n",
    "    plt.legend(title='Product Category', bbox_to_anchor=(1, 1))\n",
    "    plt.tight_layout()\n",
    "    plt.show()\n",
    "file_path = input(\"Enter the file path of the CSV file: \")\n",
    "visualize_sales_data(file_path)\n"
   ]
  },
  {
   "cell_type": "code",
   "execution_count": null,
   "id": "a94d9b4d-c3b7-4578-a9cf-1ff3cd244687",
   "metadata": {},
   "outputs": [],
   "source": [
    "#Question 11\n",
    "def calculate_statistics(\"Downloads/student_data.csv\"):\n",
    "   \n",
    "    df = pd.read_csv(\"Downloads/student_data.csv\")\n",
    "    mean_score = df['Test Score'].mean()\n",
    "    median_score = df['Test Score'].median()\n",
    "    mode_score = df['Test Score'].mode().iloc[0]\n",
    "\n",
    "    results_df = pd.DataFrame({\n",
    "        'Statistic': ['Mean', 'Median', 'Mode'],\n",
    "        'Value': [mean_score, median_score, mode_score]\n",
    "    })\n",
    "    \n",
    "    return results_df\n",
    "file_path = input(\"Enter the file path of the CSV file containing the student data: \")\n",
    "statistics_table = calculate_statistics(file_path)\n",
    "print(\"\\nStatistics of Test Scores:\")\n",
    "print(statistics_table)\n"
   ]
  },
  {
   "cell_type": "code",
   "execution_count": null,
   "id": "5a911991-e421-49fe-89a9-c05574497991",
   "metadata": {},
   "outputs": [],
   "source": []
  },
  {
   "cell_type": "code",
   "execution_count": null,
   "id": "0b214a78-0f54-473a-8b70-e4e7e7bbeb89",
   "metadata": {},
   "outputs": [],
   "source": []
  }
 ],
 "metadata": {
  "kernelspec": {
   "display_name": "Python 3 (ipykernel)",
   "language": "python",
   "name": "python3"
  },
  "language_info": {
   "codemirror_mode": {
    "name": "ipython",
    "version": 3
   },
   "file_extension": ".py",
   "mimetype": "text/x-python",
   "name": "python",
   "nbconvert_exporter": "python",
   "pygments_lexer": "ipython3",
   "version": "3.11.4"
  }
 },
 "nbformat": 4,
 "nbformat_minor": 5
}
